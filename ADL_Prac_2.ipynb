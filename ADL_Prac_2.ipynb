{
  "nbformat": 4,
  "nbformat_minor": 0,
  "metadata": {
    "colab": {
      "provenance": [],
      "authorship_tag": "ABX9TyMUbBbM0SaZEpQjzCOu1Mt8",
      "include_colab_link": true
    },
    "kernelspec": {
      "name": "python3",
      "display_name": "Python 3"
    },
    "language_info": {
      "name": "python"
    }
  },
  "cells": [
    {
      "cell_type": "markdown",
      "metadata": {
        "id": "view-in-github",
        "colab_type": "text"
      },
      "source": [
        "<a href=\"https://colab.research.google.com/github/Rpn0708/test/blob/main/ADL_Prac_2.ipynb\" target=\"_parent\"><img src=\"https://colab.research.google.com/assets/colab-badge.svg\" alt=\"Open In Colab\"/></a>"
      ]
    },
    {
      "cell_type": "code",
      "execution_count": 1,
      "metadata": {
        "colab": {
          "base_uri": "https://localhost:8080/"
        },
        "id": "8tc762j7_wxM",
        "outputId": "4c76947e-016a-4c64-e3c2-165b7c1b9e24"
      },
      "outputs": [
        {
          "output_type": "stream",
          "name": "stdout",
          "text": [
            "Downloading data from https://storage.googleapis.com/tensorflow/tf-keras-datasets/mnist.npz\n",
            "11490434/11490434 [==============================] - 0s 0us/step\n"
          ]
        }
      ],
      "source": [
        "# Prac 2: Write a program to implement regularization to prevent the model from overfitting.\n",
        "\n",
        "import tensorflow as tf # Import TensorFlow library\n",
        "# Load the data\n",
        "(train_data, train_labels), (test_data, test_labels) = tf.keras.datasets.mnist. load_data() # Load MNIST dataset\n",
        "# Preprocess the data\n",
        "train_data = train_data.reshape((60000, 784)) / 255.0 # Reshape and normalize training data\n",
        "test_data = test_data.reshape((10000, 784)) / 255.0 # Reshape and normalize testing data\n",
        "train_labels = tf.keras.utils.to_categorical(train_labels) # Convert training labels to one-hot encoding\n",
        "test_labels = tf.keras.utils.to_categorical(test_labels) # Convert testing labels to one-hot encoding"
      ]
    },
    {
      "cell_type": "code",
      "source": [
        "# Define the model architecture\n",
        "model = tf.keras.models.Sequential([ # Define sequential model\n",
        "  tf.keras.layers.Dense(128, activation='relu', input_shape=(784,), kernel_regularizer=tf.keras.regularizers.l2(0.01)), # Add a fully connected layer with 128 units, ReLU activation, and L2 regularization\n",
        "  tf.keras.layers.Dense(64, activation='relu', kernel_regularizer=tf.keras.regularizers.l2(0.01)), # Add another fully connected layer with 64 units, ReLU activation, and L2 regularization\n",
        "  tf.keras.layers.Dense(10, activation='softmax') # Add a final output layer with 10 units (one for each class), softmax activation\n",
        "])"
      ],
      "metadata": {
        "id": "D_XmZ8FIAATs"
      },
      "execution_count": 17,
      "outputs": []
    },
    {
      "cell_type": "code",
      "source": [
        "# Compile the model\n",
        "model = tf.keras.models.Sequential([ # Define sequential model\n",
        "  tf.keras.layers.Dense(64, activation='relu', kernel_regularizer=tf.keras.regularizers.l2(0.01)), # Add another fully connected layer with 64 units, ReLU activation, and L2 regularization\n",
        "  tf.keras.layers.Dense(10, activation='softmax') # Add a final output layer with 10 units (one for each class), softmax activation\n",
        "])\n",
        "\n",
        "model.compile(optimizer=tf.keras.optimizers.Adam(learning_rate=0.001), # Use Adam optimizer with learning rate 0.001\n",
        "loss='categorical_crossentropy', # Use categorical cross-entropy loss function\n",
        "metrics=['accuracy']) # Monitor accuracy during training"
      ],
      "metadata": {
        "id": "lwJ1VW0aBSyx"
      },
      "execution_count": 18,
      "outputs": []
    },
    {
      "cell_type": "code",
      "source": [
        "# Train the model\n",
        "history = model.fit(train_data, train_labels, epochs=10, batch_size=128, validation_data=(test_data, test_labels)) # Train the model for 10 epochs, using batches of size 128, and validate on the testing data at the end of each epoch"
      ],
      "metadata": {
        "colab": {
          "base_uri": "https://localhost:8080/"
        },
        "id": "CbugtAOaBlgP",
        "outputId": "33a17a22-b670-491e-9bfb-2e38f094e696"
      },
      "execution_count": 19,
      "outputs": [
        {
          "output_type": "stream",
          "name": "stdout",
          "text": [
            "Epoch 1/10\n",
            "469/469 [==============================] - 3s 5ms/step - loss: 0.7861 - accuracy: 0.8733 - val_loss: 0.4605 - val_accuracy: 0.9182\n",
            "Epoch 2/10\n",
            "469/469 [==============================] - 2s 4ms/step - loss: 0.4365 - accuracy: 0.9198 - val_loss: 0.4037 - val_accuracy: 0.9222\n",
            "Epoch 3/10\n",
            "469/469 [==============================] - 2s 4ms/step - loss: 0.3883 - accuracy: 0.9295 - val_loss: 0.3572 - val_accuracy: 0.9351\n",
            "Epoch 4/10\n",
            "469/469 [==============================] - 2s 5ms/step - loss: 0.3562 - accuracy: 0.9344 - val_loss: 0.3328 - val_accuracy: 0.9391\n",
            "Epoch 5/10\n",
            "469/469 [==============================] - 3s 5ms/step - loss: 0.3342 - accuracy: 0.9384 - val_loss: 0.3094 - val_accuracy: 0.9462\n",
            "Epoch 6/10\n",
            "469/469 [==============================] - 2s 4ms/step - loss: 0.3150 - accuracy: 0.9433 - val_loss: 0.3026 - val_accuracy: 0.9468\n",
            "Epoch 7/10\n",
            "469/469 [==============================] - 2s 4ms/step - loss: 0.3029 - accuracy: 0.9435 - val_loss: 0.2999 - val_accuracy: 0.9456\n",
            "Epoch 8/10\n",
            "469/469 [==============================] - 2s 4ms/step - loss: 0.2875 - accuracy: 0.9479 - val_loss: 0.2766 - val_accuracy: 0.9514\n",
            "Epoch 9/10\n",
            "469/469 [==============================] - 2s 4ms/step - loss: 0.2764 - accuracy: 0.9511 - val_loss: 0.2652 - val_accuracy: 0.9542\n",
            "Epoch 10/10\n",
            "469/469 [==============================] - 2s 4ms/step - loss: 0.2691 - accuracy: 0.9515 - val_loss: 0.2589 - val_accuracy: 0.9531\n"
          ]
        }
      ]
    },
    {
      "cell_type": "code",
      "source": [
        "import tensorflow as tf # Import TensorFlow library\n",
        "# Load the data\n",
        "(train_data, train_labels), (test_data, test_labels) = tf.keras.datasets.mnist.load_data() # Load MNIST dataset"
      ],
      "metadata": {
        "id": "TypO2hcABva4"
      },
      "execution_count": 20,
      "outputs": []
    },
    {
      "cell_type": "code",
      "source": [
        "# Preprocess the data\n",
        "\n",
        "train_data = train_data.reshape((60000, 784)) / 255.0 # Reshape and normalize training data\n",
        "test_data = test_data.reshape((10000, 784)) / 255.0 # Reshape and normalize testing data\n",
        "train_labels = tf.keras.utils.to_categorical(train_labels) # Convert training labels to one-hot encoding\n",
        "test_labels = tf.keras.utils.to_categorical(test_labels) # Convert testing labels to one-hot encoding"
      ],
      "metadata": {
        "id": "iSd_rrsZB3sI"
      },
      "execution_count": 21,
      "outputs": []
    },
    {
      "cell_type": "code",
      "source": [
        "# Define the model architecture\n",
        "model = tf.keras.models.Sequential([ # Define sequential model\n",
        "  tf.keras.layers.Dense(128, activation='relu', input_shape=(784,), kernel_regularizer=tf.keras.regularizers.l2(0.01)), # Add a fully connected layer with 128 units, ReLU activation, and L2 regularization\n",
        "  tf.keras.layers.Dense(64, activation='relu', kernel_regularizer=tf.keras.regularizers.l2(0.01)), # Add another fully connected layer with 64 units, ReLU activation, and L2 regularization\n",
        "  tf.keras.layers.Dense(10, activation='softmax') # Add a final output layer with 10 units (one for each class), softmax activation\n",
        "])"
      ],
      "metadata": {
        "id": "VP3-3wBrCHzA"
      },
      "execution_count": 22,
      "outputs": []
    },
    {
      "cell_type": "code",
      "source": [
        "# Compile the model\n",
        "\n",
        "model.compile(optimizer=tf.keras.optimizers.Adam(learning_rate=0.001), # Use Adam optimizer with learning rate 0.001\n",
        "loss='categorical_crossentropy', # Use categorical cross-entropy loss function\n",
        "metrics=['accuracy']) # Monitor accuracy during training"
      ],
      "metadata": {
        "id": "KmezJIVpCQcQ"
      },
      "execution_count": 23,
      "outputs": []
    },
    {
      "cell_type": "code",
      "source": [
        "# Train the model\n",
        "\n",
        "history = model.fit(train_data, train_labels, epochs=10, batch_size=128, validation_data=(test_data, test_labels)) # Train the model for 10 epochs, using batches of size 128, and validate on the testing data at the end of each epoch"
      ],
      "metadata": {
        "colab": {
          "base_uri": "https://localhost:8080/"
        },
        "id": "Fc2_5XEPCirr",
        "outputId": "28106118-b4dd-4395-d6df-c1d367a5d209"
      },
      "execution_count": 24,
      "outputs": [
        {
          "output_type": "stream",
          "name": "stdout",
          "text": [
            "Epoch 1/10\n",
            "469/469 [==============================] - 4s 6ms/step - loss: 1.1153 - accuracy: 0.8864 - val_loss: 0.6053 - val_accuracy: 0.9220\n",
            "Epoch 2/10\n",
            "469/469 [==============================] - 3s 5ms/step - loss: 0.5575 - accuracy: 0.9216 - val_loss: 0.4919 - val_accuracy: 0.9313\n",
            "Epoch 3/10\n",
            "469/469 [==============================] - 2s 5ms/step - loss: 0.4905 - accuracy: 0.9299 - val_loss: 0.4710 - val_accuracy: 0.9300\n",
            "Epoch 4/10\n",
            "469/469 [==============================] - 3s 7ms/step - loss: 0.4521 - accuracy: 0.9357 - val_loss: 0.4222 - val_accuracy: 0.9409\n",
            "Epoch 5/10\n",
            "469/469 [==============================] - 3s 7ms/step - loss: 0.4257 - accuracy: 0.9392 - val_loss: 0.4201 - val_accuracy: 0.9372\n",
            "Epoch 6/10\n",
            "469/469 [==============================] - 3s 7ms/step - loss: 0.4047 - accuracy: 0.9426 - val_loss: 0.3766 - val_accuracy: 0.9471\n",
            "Epoch 7/10\n",
            "469/469 [==============================] - 3s 6ms/step - loss: 0.3843 - accuracy: 0.9458 - val_loss: 0.3652 - val_accuracy: 0.9485\n",
            "Epoch 8/10\n",
            "469/469 [==============================] - 4s 9ms/step - loss: 0.3723 - accuracy: 0.9476 - val_loss: 0.3645 - val_accuracy: 0.9515\n",
            "Epoch 9/10\n",
            "469/469 [==============================] - 5s 10ms/step - loss: 0.3552 - accuracy: 0.9512 - val_loss: 0.3656 - val_accuracy: 0.9454\n",
            "Epoch 10/10\n",
            "469/469 [==============================] - 4s 8ms/step - loss: 0.3438 - accuracy: 0.9525 - val_loss: 0.3398 - val_accuracy: 0.9503\n"
          ]
        }
      ]
    },
    {
      "cell_type": "code",
      "source": [],
      "metadata": {
        "id": "H2yxVg8cCmO5"
      },
      "execution_count": null,
      "outputs": []
    }
  ]
}